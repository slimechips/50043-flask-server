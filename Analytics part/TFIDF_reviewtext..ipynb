﻿{
  "metadata": {
    "name": "TFIDF_reviewtext",
    "kernelspec": {
      "language": "scala",
      "name": "spark2-scala"
    },
    "language_info": {
      "codemirror_mode": "text/x-scala",
      "file_extension": ".scala",
      "mimetype": "text/x-scala",
      "name": "scala",
      "pygments_lexer": "scala"
    }
  },
  "nbformat": 4,
  "nbformat_minor": 2,
  "cells": [
    {
      "cell_type": "raw",
      "metadata": {
        "format": "text/plain"
      },
      "source": "%pyspark\r\n\r\nimport os\r\nfrom pyspark.sql import SparkSession\r\nfrom pyspark.sql import functions as f\r\nfrom pyspark.ml.feature import HashingTF, IDF, Tokenizer, CountVectorizer\r\n\r\nos.environ[\"PYSPARK_PYTHON\"] \u003d \"/usr/bin/python\"\r\nsession \u003d SparkSession.builder.master(\"local\").appName(\u0027tfidf\u0027).getOrCreate()\r\ndf \u003d session.read.options(header\u003dTrue).csv(\"hdfs://localhost/input/kindle_reviews.csv\")\r\n\r\nfrom sklearn.feature_extraction.text import CountVectorizer\r\nfrom sklearn.feature_extraction.text import TfidfVectorizer\r\nfrom collections import Counter\r\n\r\ncorpus \u003ddf[\u0027reviewText\u0027]\r\n\r\nvectorizer \u003d CountVectorizer()\r\nX \u003d vectorizer.fit_transform(corpus)\r\nprint(\"Features are:\\n\",vectorizer.get_feature_names())\r\n\r\nz\u003dX.toarray()\r\n\r\nprint(\"Term frequency matrix is:\\n\",z)\r\n\r\nvectorizer1 \u003d TfidfVectorizer(min_df\u003d1)\r\nX1 \u003d vectorizer1.fit_transform(corpus)\r\nidf \u003d vectorizer1.idf_\r\nprint (\"IDF dictionary is:\",dict(zip(vectorizer1.get_feature_names(), idf)))\r\n\r\nTFIDF_1\u003dX1.toarray()\r\n\r\nprint(\"The TFIDF matrix of the reviewText is: \\n\", TFIDF_1)\r\n\r\n\r\nsession.stop()"
    }
  ]
}